{
 "cells": [
  {
   "cell_type": "code",
   "execution_count": 3,
   "metadata": {},
   "outputs": [
    {
     "data": {
      "text/plain": [
       "[[23, 12]]"
      ]
     },
     "execution_count": 3,
     "metadata": {},
     "output_type": "execute_result"
    }
   ],
   "source": [
    "# Write a program to solve a classic ancient Chinese puzzle:We count 35 heads and 94 legs among the chickens and rabbits in a farm. How many rabbits and how many chickens do we have? \n",
    "list=[]\n",
    "for i in range(0,35):\n",
    "    for j in range(0,35):\n",
    "        if i+j==35 and 2*i+4*j==94:\n",
    "            list.append([i,j])\n",
    "list"
   ]
  },
  {
   "cell_type": "code",
   "execution_count": 4,
   "metadata": {},
   "outputs": [
    {
     "name": "stdout",
     "output_type": "stream",
     "text": [
      "fq24wfwe\n"
     ]
    },
    {
     "data": {
      "text/plain": [
       "'f2ww'"
      ]
     },
     "execution_count": 4,
     "metadata": {},
     "output_type": "execute_result"
    }
   ],
   "source": [
    "#Please write a program which accepts a string from console and print the characters that have even indexes.\n",
    "x = str(input())\n",
    "x[::2]"
   ]
  },
  {
   "cell_type": "code",
   "execution_count": 21,
   "metadata": {},
   "outputs": [
    {
     "name": "stdout",
     "output_type": "stream",
     "text": [
      "34qf34qv\n"
     ]
    },
    {
     "data": {
      "text/plain": [
       "'vq43fq43'"
      ]
     },
     "execution_count": 21,
     "metadata": {},
     "output_type": "execute_result"
    }
   ],
   "source": [
    "# Please write a program which accepts a string from console and print it in reverse order.\n",
    "x=str(input())\n",
    "x[::-1]"
   ]
  },
  {
   "cell_type": "code",
   "execution_count": 49,
   "metadata": {},
   "outputs": [
    {
     "name": "stdout",
     "output_type": "stream",
     "text": [
      "j45jyck8 c58c6u7c6c5657\n"
     ]
    },
    {
     "data": {
      "text/plain": [
       "{'j': 2,\n",
       " '4': 1,\n",
       " '5': 4,\n",
       " 'y': 1,\n",
       " 'c': 5,\n",
       " 'k': 1,\n",
       " '8': 2,\n",
       " ' ': 1,\n",
       " '6': 3,\n",
       " 'u': 1,\n",
       " '7': 2}"
      ]
     },
     "execution_count": 49,
     "metadata": {},
     "output_type": "execute_result"
    }
   ],
   "source": [
    "# Please write a program which count and print the numbers of each character in a string input by console.\n",
    "mydict={}\n",
    "string=str(input())\n",
    "\n",
    "for i in range(0,len(string)):\n",
    "    x=string[i]\n",
    "    y=string.count(x)\n",
    "    mydict[x]=y\n",
    "\n",
    "mydict      \n",
    "    "
   ]
  },
  {
   "cell_type": "code",
   "execution_count": 37,
   "metadata": {},
   "outputs": [],
   "source": [
    "# Define a class named  has an init function have a area function  Shape's area is 0 by  Shape and its subclass Square. The Square class which takes a length as argument. Both classes  which can print the area of the shape where efault.\n",
    "class shape:\n",
    "    def area_function():\n",
    "        square1=square(input())\n",
    "        print((square1.length)^2)\n",
    "    class square:\n",
    "        def __init__(self,length):\n",
    "            self.length=length\n",
    "                \n",
    "        def area_function():\n",
    "            square1=square(input())\n",
    "            print((square1.length)^2)\n",
    "           \n",
    "      \n",
    "    "
   ]
  },
  {
   "cell_type": "code",
   "execution_count": 39,
   "metadata": {},
   "outputs": [
    {
     "name": "stdout",
     "output_type": "stream",
     "text": [
      "An exception occurred\n"
     ]
    }
   ],
   "source": [
    "# Write a function to compute 5/0 and use try/except to catch the exceptions.\n",
    "try:\n",
    "  print(5/0)\n",
    "except:\n",
    "  print(\"An exception occurred\")"
   ]
  },
  {
   "cell_type": "code",
   "execution_count": 2,
   "metadata": {
    "scrolled": false
   },
   "outputs": [
    {
     "name": "stdout",
     "output_type": "stream",
     "text": [
      "sdfdf\n",
      "\n"
     ]
    }
   ],
   "source": [
    "# Assuming that we have some email addresses in the\n",
    "# \"username@companyname.com\" format, please write program to print the\n",
    "# user name of a given email address. Both user names and company\n",
    "# names are composed of letters only.\n",
    "import re\n",
    "username=\"\"\n",
    "email=str(input())\n",
    "for i in range(0,len(email)):\n",
    "    if email[i] == '@':\n",
    "        username=email[0:i]\n",
    "        break\n",
    "print(username)    \n",
    "    "
   ]
  },
  {
   "cell_type": "code",
   "execution_count": 16,
   "metadata": {},
   "outputs": [
    {
     "name": "stdout",
     "output_type": "stream",
     "text": [
      "w3234\n"
     ]
    },
    {
     "data": {
      "text/plain": [
       "['3', '2', '3', '4']"
      ]
     },
     "execution_count": 16,
     "metadata": {},
     "output_type": "execute_result"
    }
   ],
   "source": [
    "# Write a program which accepts a sequence of words separated by\n",
    "# whitespace as input to print the words composed of digits only.\n",
    "x=str(input())\n",
    "re.findall('\\d',x)\n"
   ]
  },
  {
   "cell_type": "code",
   "execution_count": 10,
   "metadata": {},
   "outputs": [
    {
     "name": "stdout",
     "output_type": "stream",
     "text": [
      "5\n",
      "3.55\n"
     ]
    }
   ],
   "source": [
    "x=int(input())\n",
    "y=0.0;\n",
    "for i in range(1,x+1):\n",
    "    y=float(i/(i+1))+y\n",
    "print(\"%.2f\"%y)   "
   ]
  },
  {
   "cell_type": "code",
   "execution_count": 13,
   "metadata": {},
   "outputs": [
    {
     "name": "stdout",
     "output_type": "stream",
     "text": [
      "5\n"
     ]
    },
    {
     "data": {
      "text/plain": [
       "501"
      ]
     },
     "execution_count": 13,
     "metadata": {},
     "output_type": "execute_result"
    }
   ],
   "source": [
    "# Write a program to compute:\n",
    "# f(n)=f(n-1)+100 when n>0\n",
    "and f(0)=1\n",
    "x=int(input())\n",
    "def fn(x):\n",
    "    if x==0:\n",
    "        return 1\n",
    "    else:\n",
    "        return fn(x-1)+100\n",
    "fn(x)    "
   ]
  },
  {
   "cell_type": "code",
   "execution_count": 25,
   "metadata": {},
   "outputs": [
    {
     "name": "stdout",
     "output_type": "stream",
     "text": [
      "aA1#\n"
     ]
    }
   ],
   "source": [
    "# A website requires the users to input username and password to\n",
    "# register. Write a program to check the validity of password input by\n",
    "# users.\n",
    "# Following are the criteria for checking the password:\n",
    "# 1. At least 1 letter between [a-z]\n",
    "# 2. At least 1 number between [0-9]\n",
    "# 1. At least 1 letter between [A-Z]\n",
    "# 3. At least 1 character from [$#@]\n",
    "# 4. Minimum length of transaction password: 6\n",
    "# 5. Maximum length of transaction password: 12\n",
    "# Your program should accept a sequence of comma separated passwords\n",
    "# and will check them according to the above criteria. Passwords that\n",
    "# match the criteria are to be printed, each separated by a comma.\n",
    "# Example\n",
    "# If the following passwords are given as input to the program:\n",
    "# ABd1234@1,a F1#,2w3E*,2We3345\n",
    "# Then, the output of the program should be:\n",
    "# ABd1234@1\n",
    "q=0\n",
    "w=0\n",
    "e=0\n",
    "r=0\n",
    "x = str(input())\n",
    "y=x.split(',')\n",
    "for i in range(0,len(y)):\n",
    "    for j in range(0,len(y[i])):\n",
    "        if len(y[i])>12 or len(y[i])<6:\n",
    "            break\n",
    "        n=(y[i])[j]\n",
    "        if n>='a' and n<='z':\n",
    "            q+=1\n",
    "        if n>='0' and n<='9':\n",
    "            w+=1\n",
    "        if n>='A'and n<='Z':\n",
    "            e+=1\n",
    "        if n in ['$','#','@']:\n",
    "            r=r+1\n",
    "        if r>0 and e>0 and w>0 and q>0:\n",
    "            s=y[i]\n",
    "            print(s)\n",
    "            break\n",
    "            "
   ]
  },
  {
   "cell_type": "code",
   "execution_count": null,
   "metadata": {},
   "outputs": [],
   "source": []
  },
  {
   "cell_type": "code",
   "execution_count": null,
   "metadata": {},
   "outputs": [],
   "source": []
  }
 ],
 "metadata": {
  "kernelspec": {
   "display_name": "Python 3",
   "language": "python",
   "name": "python3"
  },
  "language_info": {
   "codemirror_mode": {
    "name": "ipython",
    "version": 3
   },
   "file_extension": ".py",
   "mimetype": "text/x-python",
   "name": "python",
   "nbconvert_exporter": "python",
   "pygments_lexer": "ipython3",
   "version": "3.7.3"
  }
 },
 "nbformat": 4,
 "nbformat_minor": 2
}
